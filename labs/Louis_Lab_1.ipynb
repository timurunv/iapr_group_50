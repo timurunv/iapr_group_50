{
 "cells": [
  {
   "cell_type": "markdown",
   "metadata": {},
   "source": [
    "# [IAPR][iapr]: Lab 1 ‒  Image segmentation\n",
    "\n",
    "\n",
    "**Group ID:** xx\n",
    "\n",
    "**Author 1 (sciper):** Student Name 1 (xxxxx)  \n",
    "**Author 2 (sciper):** Student Name 2 (xxxxx)   \n",
    "**Author 3 (sciper):** Student Name 3 (xxxxx)   \n",
    "\n",
    "**Release date:** 05.03.2025   \n",
    "**Due date:** 19.03.2025 (11:59 pm)\n",
    "\n",
    "\n",
    "## Key Submission Guidelines:\n",
    "- **Before submitting your notebook, <span style=\"color:red;\">rerun</span> it from scratch!** Go to: `Kernel` > `Restart & Run All`  \n",
    "- **Only groups of three will be accepted**, except in exceptional circumstances.  \n",
    "- **You are not allowed to use any libraries** other than those provided in this notebook.  \n",
    "- **Failure to follow these guidelines may result in point deductions** during grading.  \n",
    "\n",
    "\n",
    "[iapr]: https://github.com/LTS5/iapr2025"
   ]
  },
  {
   "cell_type": "code",
   "execution_count": null,
   "metadata": {},
   "outputs": [],
   "source": [
    "# Check is at least python 3.9\n",
    "import sys \n",
    "assert (sys.version_info.major == 3) and (sys.version_info.minor == 9)"
   ]
  },
  {
   "cell_type": "code",
   "execution_count": null,
   "metadata": {},
   "outputs": [],
   "source": [
    "# Install required packages\n",
    "!pip install numpy -q\n",
    "!pip install matplotlib -q\n",
    "!pip install scikit-image -q\n",
    "!pip install pillow -q"
   ]
  },
  {
   "cell_type": "code",
   "execution_count": null,
   "metadata": {},
   "outputs": [],
   "source": [
    "# Import main packages\n",
    "from utils.lab_01_utils import *\n",
    "from skimage.color import rgb2hsv\n",
    "from skimage.morphology import closing, opening, disk, remove_small_holes, remove_small_objects, binary_dilation"
   ]
  },
  {
   "cell_type": "markdown",
   "metadata": {},
   "source": [
    "---\n",
    "# Introduction\n",
    "\n",
    "\n",
    "In this lab, we will be working with histological data. Histological images are created from tissue samples that are digitized using high-resolution scanners. Without preparation, human tissues lack visual contrast and have poor tissue differentiations. To overcome this issue, clinical institutes use chemical staining to artificially enhance contrast. The most famous one is called HE (hematoxylin and eosin) staining. Hematoxylin stains tissue nuclei with a deep purple while eosin focuses more on extracellular matrix components with a pink stain.\n",
    "\n",
    "Before running the following code make sure that the images are located as follows:\n",
    "\n",
    "```code\n",
    "├── labs\n",
    "|   ├── utils\n",
    "|   |   └── lab_01_utils.py\n",
    "|   └── lab_01_iapr.ipynb\n",
    "└── data\n",
    "    └── data_lab_01\n",
    "        ├── tcga_crc_example.png\n",
    "        └── tcga_blood_example.png\n",
    "```\n",
    "**⚠️ DO NOT CHANGE THIS CONFIGURATION, AS WE WILL RERUN YOUR NOTEBOOK USING THIS EXACT STRUCTURE!**\n",
    "\n",
    "By running the following cells you will display a HE histological sample of a colorectal cancer case. It is composed of 3 main entities:\n",
    "* **Mucin**: Grayish mucus that is secreted by the body. The presence of a tumor tends to increase its presence. \n",
    "* **Tumor**: Dark purple aggregates (hematoxylin). Mainly composed of cancerous cells.\n",
    "* **Other**: Mixture of other cells such as stromal or lymphocytes. It appears mainly pink (eosin) but is dotted with nuclei (purple)."
   ]
  },
  {
   "cell_type": "code",
   "execution_count": null,
   "metadata": {},
   "outputs": [],
   "source": [
    "img_he = show_introduction_figure()"
   ]
  },
  {
   "cell_type": "markdown",
   "metadata": {},
   "source": [
    "\n",
    "# Part 1 - Segmentation [16 pts]\n",
    "\n",
    "## Part 1.1 - RGB (3 pts)\n",
    "\n",
    "**Q1 (1 pts)**: In this section, you will have to complete the function `extract_rgb_channels`. The function should extract and return red, blue, and green channels from the input image `img`. Your function will be fed to `plot_colors_histo` to plot the distribution of the colors in the image. "
   ]
  },
  {
   "cell_type": "code",
   "execution_count": null,
   "metadata": {},
   "outputs": [],
   "source": [
    "def extract_rgb_channels(img):\n",
    "    \"\"\"\n",
    "    Extract RGB channels from the input image.\n",
    "\n",
    "    Args\n",
    "    ----\n",
    "    img: np.ndarray (M, N, C)\n",
    "        Input image of shape MxN and C channels.\n",
    "    \n",
    "    Return\n",
    "    ------\n",
    "    data_red: np.ndarray (M, N)\n",
    "        Red channel of input image\n",
    "    data_green: np.ndarray (M, N)\n",
    "        Green channel of input image\n",
    "    data_blue: np.ndarray (M, N)\n",
    "        Blue channel of input image\n",
    "    \"\"\"\n",
    "\n",
    "    # Get the shape of the input image\n",
    "    M, N, _ = np.shape(img)\n",
    "\n",
    "    # Define default values for RGB channels\n",
    "    data_red = np.zeros((M, N))\n",
    "    data_green = np.zeros((M, N))\n",
    "    data_blue = np.zeros((M, N))\n",
    "\n",
    "    # ------------------\n",
    "    # Your code here ... \n",
    "    # ------------------\n",
    "    \n",
    "    return data_red, data_green, data_blue"
   ]
  },
  {
   "cell_type": "code",
   "execution_count": null,
   "metadata": {},
   "outputs": [],
   "source": [
    "################################################################\n",
    "############################ TEST ##############################\n",
    "################################################################\n",
    "\n",
    "plot_colors_histo(\n",
    "    img = img_he,\n",
    "    func = extract_rgb_channels,\n",
    "    labels = [\"Red\", \"Green\", \"Blue\"],\n",
    ")"
   ]
  },
  {
   "cell_type": "markdown",
   "metadata": {},
   "source": [
    "Based on the result of the plot above\n",
    "\n",
    "* **Q2 (1 pts)**: Do you think you can find a simple manual thresholding approach to isolate the tumor components? (Justify)\n",
    "    * **Answer**: ...\n",
    "* **Q3 (1 pts)**: Implement your own manual thresholding in `apply_rgb_threshold` to estimate the tumor location. Use the function `plot_thresholded_image` below to display your estimation results. Do you think your estimation is reliable? (justify)\n",
    "    * **Answer**: ..."
   ]
  },
  {
   "cell_type": "code",
   "execution_count": null,
   "metadata": {},
   "outputs": [],
   "source": [
    "def apply_rgb_threshold(img):\n",
    "    \"\"\"\n",
    "    Apply threshold to input image.\n",
    "\n",
    "    Args\n",
    "    ----\n",
    "    img: np.ndarray (M, N, C)\n",
    "        Input image of shape MxN and C channels.\n",
    "    \n",
    "    Return\n",
    "    ------\n",
    "    img_th: np.ndarray (M, N)\n",
    "        Thresholded image.\n",
    "    \"\"\"\n",
    "\n",
    "    # Define the default value for the input image\n",
    "    M, N, C = np.shape(img)\n",
    "    img_th = np.zeros((M, N))\n",
    "\n",
    "    # Use the previous function to extract RGB channels\n",
    "    data_red, data_green, data_blue = extract_rgb_channels(img=img)\n",
    "    \n",
    "    # ------------------\n",
    "    # Your code here ... \n",
    "    # ------------------\n",
    "    \n",
    "    return  img_th"
   ]
  },
  {
   "cell_type": "code",
   "execution_count": null,
   "metadata": {},
   "outputs": [],
   "source": [
    "################################################################\n",
    "############################ TEST ##############################\n",
    "################################################################\n",
    "\n",
    "# Plot best RGB thresholding\n",
    "plot_thresholded_image(img=img_he, func=apply_rgb_threshold, title=\"Best RGB Threshold\")"
   ]
  },
  {
   "cell_type": "markdown",
   "metadata": {},
   "source": [
    "## Part 1.2 - Other colorspaces (3 pts)\n",
    "\n",
    "So far we used the standard RGB colorspace to apply our thresholding. In this section, you will convert the image to a different color space. \n",
    "\n",
    "* **Q1 (1 pts)**: Use the function `rgb2hsv` from the skimage package ([see doc](https://scikit-image.org/docs/stable/auto_examples/color_exposure/plot_rgb_to_hsv.html)) to convert the input image from RGB to HSV in function `extract_hsv_channels`.\n",
    "* **Q2 (1 pts)**: Can you see any difference between the use of the RGB or HSV space? (justify)\n",
    "    * **Answer**: ..."
   ]
  },
  {
   "cell_type": "code",
   "execution_count": null,
   "metadata": {},
   "outputs": [],
   "source": [
    "def extract_hsv_channels(img):\n",
    "    \"\"\"\n",
    "    Extract HSV channels from the input image.\n",
    "\n",
    "    Args\n",
    "    ----\n",
    "    img: np.ndarray (M, N, C)\n",
    "        Input image of shape MxN and C channels.\n",
    "    \n",
    "    Return\n",
    "    ------\n",
    "    data_h: np.ndarray (M, N)\n",
    "        Hue channel of input image\n",
    "    data_s: np.ndarray (M, N)\n",
    "        Saturation channel of input image\n",
    "    data_v: np.ndarray (M, N)\n",
    "        Value channel of input image\n",
    "    \"\"\"\n",
    "\n",
    "    # Get the shape of the input image\n",
    "    M, N, C = np.shape(img)\n",
    "\n",
    "    # Define default values for HSV channels\n",
    "    data_h = np.zeros((M, N))\n",
    "    data_s = np.zeros((M, N))\n",
    "    data_v = np.zeros((M, N))\n",
    "\n",
    "    # ------------------\n",
    "    # Your code here ... \n",
    "    # ------------------\n",
    "    \n",
    "    return data_h, data_s, data_v"
   ]
  },
  {
   "cell_type": "code",
   "execution_count": null,
   "metadata": {},
   "outputs": [],
   "source": [
    "################################################################\n",
    "############################ TEST ##############################\n",
    "################################################################\n",
    "\n",
    "# Call plotting function with your implemented function\n",
    "plot_colors_histo(\n",
    "    img = img_he,\n",
    "    func = extract_hsv_channels,\n",
    "    labels = [\"Hue\", \"Saturation\", \"Value\"],\n",
    ")"
   ]
  },
  {
   "cell_type": "markdown",
   "metadata": {},
   "source": [
    "* **Q3 (1 pts)**: Based on your results, try again to find the best manual threshold in function `apply_hsv_threshold`. Do you think your estimation is reliable? (justify)\n",
    "    * **Answer**: ..."
   ]
  },
  {
   "cell_type": "code",
   "execution_count": null,
   "metadata": {},
   "outputs": [],
   "source": [
    "def apply_hsv_threshold(img):\n",
    "    \"\"\"\n",
    "    Apply threshold to the input image in hsv colorspace.\n",
    "\n",
    "    Args\n",
    "    ----\n",
    "    img: np.ndarray (M, N, C)\n",
    "        Input image of shape MxN and C channels.\n",
    "    \n",
    "    Return\n",
    "    ------\n",
    "    img_th: np.ndarray (M, N)\n",
    "        Thresholded image.\n",
    "    \"\"\"\n",
    "\n",
    "    # Define the default value for the input image\n",
    "    M, N, C = np.shape(img)\n",
    "    img_th = np.zeros((M, N))\n",
    "\n",
    "    # Use the previous function to extract HSV channels\n",
    "    data_h, data_s, data_v = extract_hsv_channels(img=img)\n",
    "    \n",
    "    # ------------------\n",
    "    # Your code here ... \n",
    "    # ------------------\n",
    "    \n",
    "    return  img_th"
   ]
  },
  {
   "cell_type": "code",
   "execution_count": null,
   "metadata": {},
   "outputs": [],
   "source": [
    "################################################################\n",
    "############################ TEST ##############################\n",
    "################################################################\n",
    "\n",
    "# Find threshold(s) in the hsv channels\n",
    "img_th=apply_hsv_threshold(img_he)\n",
    "plot_thresholded_image(img=img_he, func=apply_hsv_threshold, title=\"Threshold in HSV color space\")"
   ]
  },
  {
   "cell_type": "markdown",
   "metadata": {},
   "source": [
    "## Part 1.3 - Morphology (5 pts)\n",
    "\n",
    "To proceed, we will use your results from the previous thresholding (namely `apply_hsv_threshold`) as the starting point. In this exercise, we will try to clean the masked images using morphology to get a better estimation of the tumor area.\n",
    "\n",
    "* **Q1 (1 pts)**: Implement the functions `apply_closing` and `apply_opening` with operations `closing` ([see doc](https://scikit-image.org/docs/stable/api/skimage.morphology.html#skimage.morphology.closing)), `opening` ([see doc](https://scikit-image.org/docs/stable/api/skimage.morphology.html#skimage.morphology.opening)) using the disk sizes arguments ([see doc](https://scikit-image.org/docs/stable/api/skimage.morphology.html#skimage.morphology.disk)).\n",
    "* **Q2 (1 pts)**: We test disk sizes: $1, 2, 5, 10$. Comment on the quality of the results.\n",
    "    * **Answer**: ..."
   ]
  },
  {
   "cell_type": "code",
   "execution_count": null,
   "metadata": {},
   "outputs": [],
   "source": [
    "def apply_closing(img_th, disk_size):\n",
    "    \"\"\"\n",
    "    Apply closing to input mask image using disk shape.\n",
    "\n",
    "    Args\n",
    "    ----\n",
    "    img_th: np.ndarray (M, N)\n",
    "        Image mask of size MxN.\n",
    "    disk_size: int\n",
    "        Size of the disk to use for opening\n",
    "\n",
    "    Return\n",
    "    ------\n",
    "    img_closing: np.ndarray (M, N)\n",
    "        Image after closing operation\n",
    "    \"\"\"\n",
    "\n",
    "    # Define default value for output image\n",
    "    img_closing = np.zeros_like(img_th)\n",
    "\n",
    "    # ------------------\n",
    "    # Your code here ... \n",
    "    # ------------------\n",
    "\n",
    "    return img_closing\n",
    "\n",
    "\n",
    "def apply_opening(img_th, disk_size):\n",
    "    \"\"\"\n",
    "    Apply opening to input mask image using disk shape.\n",
    "\n",
    "    Args\n",
    "    ----\n",
    "    img_th: np.ndarray (M, N)\n",
    "        Image mask of size MxN.\n",
    "    disk_size: int\n",
    "        Size of the disk to use for opening\n",
    "\n",
    "    Return\n",
    "    ------\n",
    "    img_opening: np.ndarray (M, N)\n",
    "        Image after opening operation\n",
    "    \"\"\"\n",
    "\n",
    "    # Define default value for output image\n",
    "    img_opening = np.zeros_like(img_th)\n",
    "\n",
    "    # ------------------\n",
    "    # Your code here ... \n",
    "    # ------------------\n",
    "\n",
    "    return img_opening\n"
   ]
  },
  {
   "cell_type": "code",
   "execution_count": null,
   "metadata": {},
   "outputs": [],
   "source": [
    "################################################################\n",
    "############################ TEST ##############################\n",
    "################################################################\n",
    "\n",
    "plot_close_open(img_th, apply_closing, apply_opening)"
   ]
  },
  {
   "cell_type": "markdown",
   "metadata": {},
   "source": [
    "* **Q3 (1 pts)** Implement the functions `remove_holes` and `remove_objects` using operations [remove_small_holes](https://scikit-image.org/docs/stable/api/skimage.morphology.html#skimage.morphology.remove_small_holes), [remove_small_objects](https://scikit-image.org/docs/stable/api/skimage.morphology.html#skimage.morphology.remove_small_objects) from skimage package, respectively.\n",
    "* **Q4 (1 pts)** We test the functions using area sizes: $10, 50, 100$, and $500$. Comment on the quality of the results.\n",
    "    * **Answer**: ..."
   ]
  },
  {
   "cell_type": "code",
   "execution_count": null,
   "metadata": {},
   "outputs": [],
   "source": [
    "def remove_holes(img_th, size):\n",
    "    \"\"\"\n",
    "    Remove holes from input image that are smaller than size argument.\n",
    "\n",
    "    Args\n",
    "    ----\n",
    "    img_th: np.ndarray (M, N)\n",
    "        Image mask of size MxN.\n",
    "    size: int\n",
    "        Minimal size of holes\n",
    "\n",
    "    Return\n",
    "    ------\n",
    "    img_holes: np.ndarray (M, N)\n",
    "        Image after remove holes operation\n",
    "    \"\"\"\n",
    "\n",
    "    # Define default value for input image\n",
    "    img_holes = np.zeros_like(img_th)\n",
    "\n",
    "    # ------------------\n",
    "    # Your code here ... \n",
    "    # ------------------\n",
    "\n",
    "    return img_holes\n",
    "\n",
    "\n",
    "def remove_objects(img_th, size):\n",
    "    \"\"\"\n",
    "    Remove objects from input image that are smaller than size argument.\n",
    "\n",
    "    Args\n",
    "    ----\n",
    "    img_th: np.ndarray (M, N)\n",
    "        Image mask of size MxN.\n",
    "    size: int\n",
    "        Minimal size of objects\n",
    "\n",
    "    Return\n",
    "    ------\n",
    "    img_obj: np.ndarray (M, N)\n",
    "        Image after remove small objects operation\n",
    "    \"\"\"\n",
    "\n",
    "    # Define default value for input image\n",
    "    img_obj = np.zeros_like(img_th)\n",
    "\n",
    "    # ------------------\n",
    "    # Your code here ... \n",
    "    # ------------------\n",
    "\n",
    "    return img_obj\n"
   ]
  },
  {
   "cell_type": "code",
   "execution_count": null,
   "metadata": {},
   "outputs": [],
   "source": [
    "################################################################\n",
    "############################ TEST ##############################\n",
    "################################################################\n",
    "\n",
    "plot_remove_holes_objects(img_th, remove_holes, remove_objects)"
   ]
  },
  {
   "cell_type": "markdown",
   "metadata": {},
   "source": [
    "* **Q5 (1 pts)** Based on your previous results, implement the function `apply_morphology` that combines morphology functions to improve your tumor detection results from HSV thresholding. In this exercise, we prioritize having a higher number of false positives rather than false negatives, as mistakenly labeling non-tumor regions as tumors (over-segmentation) is preferable to missing actual tumor regions, which could lead to undetected cancerous areas and delayed treatment."
   ]
  },
  {
   "cell_type": "code",
   "execution_count": null,
   "metadata": {},
   "outputs": [],
   "source": [
    "def apply_morphology(img_th):\n",
    "    \"\"\"\n",
    "    Apply morphology to thresholded image\n",
    "\n",
    "    Args\n",
    "    ----\n",
    "    img_th: np.ndarray (M, N)\n",
    "        Image mask of size MxN.\n",
    "\n",
    "    Return\n",
    "    ------\n",
    "    img_morph: np.ndarray (M, N)\n",
    "        Image after morphological operations\n",
    "    \"\"\"\n",
    "\n",
    "    img_morph = np.zeros_like(img_th)\n",
    "    \n",
    "    # ------------------\n",
    "    # Your code here ... \n",
    "    # ------------------\n",
    "    \n",
    "    return img_morph"
   ]
  },
  {
   "cell_type": "code",
   "execution_count": null,
   "metadata": {},
   "outputs": [],
   "source": [
    "################################################################\n",
    "############################ TEST ##############################\n",
    "################################################################\n",
    "\n",
    "img_best_morpho = apply_morphology(apply_hsv_threshold(img_he))\n",
    "plot_morphology_best(\n",
    "    img_source=img_he,\n",
    "    img_best=img_best_morpho,\n",
    ")"
   ]
  },
  {
   "cell_type": "markdown",
   "metadata": {},
   "source": [
    "## Part 1.4 - Region Growing (4 pts)\n",
    "\n",
    "* **Q1 (3 pts)** In this section we ask you to implement from scratch your own `region_growing` function to detect the tumor area. The function should take as input an RGB image, seeds that are manual initialization points in the tumor area, and the maximum number of iterations to perform. ote that the function also includes the kwargs argument. You can use it to add additional parameters to your function if needed (see [doc kwargs](https://book.pythontips.com/en/latest/args_and_kwargs.html)). Importantly, for timing reasons, a single explicit for loop on iterations is expected. An explicit for loop on pixels or neighbours will be accepted but penalised by 1 point. Use numpy tools to succeed.\n",
    "* **Q2 (1 pts)** Your function is then used to perform region growing using multiple iterations. Comment on the quality of the results based on the number of iterations performed as well as the running time.\n",
    "    * **Answer**: ..."
   ]
  },
  {
   "cell_type": "code",
   "execution_count": null,
   "metadata": {},
   "outputs": [],
   "source": [
    "def region_growing(\n",
    "    seeds: list[tuple],\n",
    "    img: np.ndarray,\n",
    "    n_max: int = 10,\n",
    "    **kwargs\n",
    "):\n",
    "    \"\"\"\n",
    "    Run region growing on input image using seed points.\n",
    "\n",
    "    Args\n",
    "    ----\n",
    "    seeds: list of tuple\n",
    "        List of seed points\n",
    "    img: np.ndarray (M, N, C)\n",
    "        RGB image of size M, N, C\n",
    "    n_max: int\n",
    "        Number maximum of iterations before stopping algorithm\n",
    "\n",
    "    Return\n",
    "    ------\n",
    "    rg: np.ndarray (M, N)\n",
    "        Image after region growing has been performed\n",
    "    \"\"\"\n",
    "    \n",
    "    M, N, _ = img.shape\n",
    "    rg = np.zeros((M, N)).astype(bool)\n",
    "    \n",
    "    # ------------------\n",
    "    # Your code here ... \n",
    "    # ------------------\n",
    "                    \n",
    "    return rg"
   ]
  },
  {
   "cell_type": "code",
   "execution_count": null,
   "metadata": {},
   "outputs": [],
   "source": [
    "# Add you additional arguments in the dictionary below\n",
    "kwargs = {}"
   ]
  },
  {
   "cell_type": "code",
   "execution_count": null,
   "metadata": {},
   "outputs": [],
   "source": [
    "################################################################\n",
    "############################ TEST ##############################\n",
    "################################################################\n",
    "\n",
    "img_grow = plot_tumor_region_growing(img_he, region_growing, **kwargs)"
   ]
  },
  {
   "cell_type": "markdown",
   "metadata": {},
   "source": [
    "## Part 1.5 - Final Comparison (1 pts)\n",
    "\n",
    "* **Q1 (1 pts)** Run the cell below. Based on your observation, which approach do you think gives the best estimation of the tumor area? (justify)\n",
    "    * **Answer**: ..."
   ]
  },
  {
   "cell_type": "code",
   "execution_count": null,
   "metadata": {},
   "outputs": [],
   "source": [
    "################################################################\n",
    "############################ TEST ##############################\n",
    "################################################################\n",
    "\n",
    "plot_final_comparison(img_he, img_th, img_best_morpho, img_grow)"
   ]
  },
  {
   "cell_type": "markdown",
   "metadata": {},
   "source": [
    "---\n",
    "# Part 2 - Sandbox [8 pts]\n",
    "\n",
    "For the second part, you will work on a new HE case without help. This time we ask you to\n",
    "* **Q1 (4 pts)**: detect and compute the area of the blood cells,\n",
    "* **Q2 (4 pts)**: detect and compute the area of the mucin.\n",
    "\n",
    "Provide your results to the function `plot_results`. See the example below. Be careful, the completely white area is not mucin. It is the slide background and should be discarded. Moreover, you can focus on the large blood cell aggregates (large red areas)"
   ]
  },
  {
   "cell_type": "code",
   "execution_count": null,
   "metadata": {},
   "outputs": [],
   "source": [
    "img_he2 = show_exo2_figure()"
   ]
  },
  {
   "cell_type": "code",
   "execution_count": null,
   "metadata": {},
   "outputs": [],
   "source": [
    "M, N, C = np.shape(img_he2)\n",
    "mask_blood = np.zeros((M, N))\n",
    "mask_mucin = np.zeros((M, N))\n",
    "\n",
    "# ------------------\n",
    "# Your code here ... \n",
    "# ------------------"
   ]
  },
  {
   "cell_type": "code",
   "execution_count": null,
   "metadata": {},
   "outputs": [],
   "source": [
    "################################################################\n",
    "############################ TEST ##############################\n",
    "################################################################\n",
    "\n",
    "plot_results(img=img_he2, mask_blood=mask_blood, mask_mucin=mask_mucin)"
   ]
  },
  {
   "cell_type": "code",
   "execution_count": null,
   "metadata": {},
   "outputs": [],
   "source": []
  }
 ],
 "metadata": {
  "kernelspec": {
   "display_name": "Python 3 (ipykernel)",
   "language": "python",
   "name": "python3"
  },
  "language_info": {
   "codemirror_mode": {
    "name": "ipython",
    "version": 3
   },
   "file_extension": ".py",
   "mimetype": "text/x-python",
   "name": "python",
   "nbconvert_exporter": "python",
   "pygments_lexer": "ipython3",
   "version": "3.9.18"
  }
 },
 "nbformat": 4,
 "nbformat_minor": 4
}
