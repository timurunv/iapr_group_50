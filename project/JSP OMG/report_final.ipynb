{
 "cells": [
  {
   "cell_type": "markdown",
   "id": "0831a98d",
   "metadata": {},
   "source": [
    "# [IAPR][iapr]: Final project - Chocolate Recognition\n",
    "\n",
    "\n",
    "**Moodle group ID:** 50  \n",
    "**Kaggle challenge:** Classic  \n",
    "**Kaggle team name (exact):** \"ChocoBlabla\"  \n",
    "\n",
    "**Author 1 (SCIPER):** *Louis Cuendet (xxxxxx)*  \n",
    "**Author 2 (SCIPER):** *Timur Ünver (xxxxx)*  \n",
    "**Author 3 (SCIPER):** *Adrien Boschung (327221)*  \n",
    "\n",
    "**Due date:** 21.05.2025 (11:59 pm)\n",
    "\n",
    "\n",
    "## Key Submission Guidelines:\n",
    "- **Before submitting your notebook, <span style=\"color:red;\">rerun</span> it from scratch!** Go to: `Kernel` > `Restart & Run All`\n",
    "- **Only groups of three will be accepted**, except in exceptional circumstances.\n",
    "\n",
    "\n",
    "[iapr]: https://github.com/LTS5/iapr2025\n",
    "\n",
    "---"
   ]
  },
  {
   "cell_type": "markdown",
   "id": "ec81a7fc",
   "metadata": {},
   "source": [
    "## Segmentation"
   ]
  },
  {
   "cell_type": "markdown",
   "id": "79e32fb9",
   "metadata": {},
   "source": [
    "## Classification"
   ]
  },
  {
   "cell_type": "markdown",
   "id": "909c31ef",
   "metadata": {},
   "source": [
    "In this section, we will detail which chocolate descriptors we decide to keep or not for classification and the reasons why."
   ]
  },
  {
   "cell_type": "markdown",
   "id": "2fdcb874",
   "metadata": {},
   "source": [
    "Our first idea was to first clusterize the "
   ]
  }
 ],
 "metadata": {
  "language_info": {
   "name": "python"
  }
 },
 "nbformat": 4,
 "nbformat_minor": 5
}
