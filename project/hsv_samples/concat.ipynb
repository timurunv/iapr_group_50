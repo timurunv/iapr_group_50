{
 "cells": [
  {
   "cell_type": "code",
   "execution_count": null,
   "id": "6de026ef",
   "metadata": {},
   "outputs": [],
   "source": [
    "import pandas as pd\n",
    "\n",
    "df = pd.read_csv(f'C:/Users/timur/OneDrive/Documents/GitHub/iapr_group_50/project/hs_samples/HSV_chocolate_0.csv')\n",
    "for i in range(1,13):\n",
    "    df2 = pd.read_csv(f'C:/Users/timur/OneDrive/Documents/GitHub/iapr_group_50/project/hs_samples/HSV_chocolate_{i}.csv')\n",
    "    df = pd.concat([df,df2],axis = 0)\n",
    "\n",
    "df.to_csv('concatenated.csv')"
   ]
  },
  {
   "cell_type": "code",
   "execution_count": null,
   "id": "c5244dfd",
   "metadata": {},
   "outputs": [],
   "source": []
  }
 ],
 "metadata": {
  "kernelspec": {
   "display_name": "iapr_project",
   "language": "python",
   "name": "python3"
  },
  "language_info": {
   "codemirror_mode": {
    "name": "ipython",
    "version": 3
   },
   "file_extension": ".py",
   "mimetype": "text/x-python",
   "name": "python",
   "nbconvert_exporter": "python",
   "pygments_lexer": "ipython3",
   "version": "3.9.21"
  }
 },
 "nbformat": 4,
 "nbformat_minor": 5
}
